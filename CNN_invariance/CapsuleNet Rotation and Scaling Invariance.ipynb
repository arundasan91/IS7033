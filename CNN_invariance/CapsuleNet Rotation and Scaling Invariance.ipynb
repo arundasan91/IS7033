{
 "cells": [
  {
   "cell_type": "markdown",
   "metadata": {},
   "source": [
    "    Arun Das\n",
    "    Research Fellow\n",
    "    Secure AI and Autonomy Laboratory\n",
    "    University of Texas at San Antonio"
   ]
  },
  {
   "cell_type": "markdown",
   "metadata": {},
   "source": [
    "# The 'Capsule' invariance problem"
   ]
  },
  {
   "cell_type": "markdown",
   "metadata": {},
   "source": [
    "> A capsule is a group of neurons whose activity vector represents the instantiation\n",
    "parameters of a specific type of entity such as an object or an object part. We use\n",
    "the length of the activity vector to represent the probability that the entity exists and\n",
    "its orientation to represent the instantiation parameters. Active capsules at one level\n",
    "make predictions, via transformation matrices, for the instantiation parameters of\n",
    "higher-level capsules. When multiple predictions agree, a higher level capsule\n",
    "becomes active. We show that a discrimininatively trained, multi-layer capsule\n",
    "system achieves state-of-the-art performance on MNIST and is considerably better\n",
    "than a convolutional net at recognizing highly overlapping digits. To achieve these\n",
    "results we use an iterative routing-by-agreement mechanism: A lower-level capsule\n",
    "prefers to send its output to higher level capsules whose activity vectors have a big\n",
    "scalar product with the prediction coming from the lower-level capsule."
   ]
  },
  {
   "cell_type": "markdown",
   "metadata": {},
   "source": [
    "![capsulenet](./images/capsulenetwork.png \"Capsule Network Architecture\")"
   ]
  },
  {
   "cell_type": "markdown",
   "metadata": {},
   "source": [
    "![capsulenet](./images/capsulenet-reconstruction.png \"Capsule Network Reconstruction Arch\")"
   ]
  },
  {
   "cell_type": "markdown",
   "metadata": {},
   "source": [
    "## Tasks"
   ]
  },
  {
   "cell_type": "markdown",
   "metadata": {},
   "source": [
    "- [x] Get capsule working\n",
    "- [x] Study normal behavior on MNIST\n",
    "- [x] Study scaling invariance behavior\n",
    "- [x] Study rotation invariance behavior\n",
    "- [ ] Retrain on AffineMNIST ?"
   ]
  },
  {
   "cell_type": "markdown",
   "metadata": {},
   "source": [
    "## Results"
   ]
  },
  {
   "cell_type": "markdown",
   "metadata": {},
   "source": [
    "![capsulenet](./images/capsule_rotation_study.png \"Capsule rotation invariance study (0-360) degrees\")"
   ]
  },
  {
   "cell_type": "markdown",
   "metadata": {},
   "source": [
    "![capsulenet](./images/capsule_scaling_study.png \"Capsule scale invariance study (10-300) %\")"
   ]
  },
  {
   "cell_type": "code",
   "execution_count": null,
   "metadata": {},
   "outputs": [],
   "source": []
  },
  {
   "cell_type": "code",
   "execution_count": null,
   "metadata": {},
   "outputs": [],
   "source": []
  },
  {
   "cell_type": "code",
   "execution_count": null,
   "metadata": {},
   "outputs": [],
   "source": []
  },
  {
   "cell_type": "code",
   "execution_count": null,
   "metadata": {},
   "outputs": [],
   "source": []
  },
  {
   "cell_type": "markdown",
   "metadata": {},
   "source": [
    "## Load packages and define hyper parameters"
   ]
  },
  {
   "cell_type": "code",
   "execution_count": 7,
   "metadata": {},
   "outputs": [],
   "source": [
    "from __future__ import print_function\n",
    "import argparse\n",
    "import torch\n",
    "import torch.nn as nn\n",
    "import torch.nn.functional as F\n",
    "import torch.optim as optim\n",
    "from torchvision import datasets, transforms\n",
    "from torch.autograd import Variable\n",
    "from torchsummary import summary\n",
    "import numpy as np\n",
    "from torchvision.utils import make_grid\n",
    "import math\n",
    "import pandas as pd\n",
    "from PIL import Image\n",
    "#from skimage.transform.radon_transform import fft\n",
    "from scipy import fftpack\n",
    "from torchvision.datasets.mnist import MNIST\n",
    "\n",
    "from torch.autograd import Variable\n",
    "from torch.optim import Adam\n",
    "from torchnet.engine import Engine\n",
    "from torchnet.logger import VisdomPlotLogger, VisdomLogger\n",
    "from torchvision.utils import make_grid\n",
    "from torchvision.datasets.mnist import MNIST\n",
    "from tqdm import tqdm\n",
    "import torchnet as tnt\n",
    "\n",
    "\n",
    "#@markdown This sets the styles of the plotting (default is styled like plots from [FiveThirtyeight.com](https://fivethirtyeight.com/))\n",
    "matplotlib_style = 'fivethirtyeight' #@param ['fivethirtyeight', 'bmh', 'ggplot', 'seaborn', 'default', 'Solarize_Light2', 'classic', 'dark_background', 'seaborn-colorblind', 'seaborn-notebook']\n",
    "import matplotlib.pyplot as plt; plt.style.use(matplotlib_style)\n",
    "import matplotlib.axes as axes;\n",
    "from matplotlib.patches import Ellipse\n",
    "%matplotlib inline\n",
    "import seaborn as sns; sns.set_context('notebook')\n",
    "from IPython.core.pylabtools import figsize\n",
    "#@markdown This sets the resolution of the plot outputs (`retina` is the highest resolution)\n",
    "notebook_screen_res = 'retina' #@param ['retina', 'png', 'jpeg', 'svg', 'pdf']\n",
    "%config InlineBackend.figure_format = notebook_screen_res"
   ]
  },
  {
   "cell_type": "code",
   "execution_count": 8,
   "metadata": {},
   "outputs": [],
   "source": [
    "BATCH_SIZE = 300\n",
    "NUM_CLASSES = 10\n",
    "NUM_EPOCHS = 20\n",
    "NUM_ROUTING_ITERATIONS = 3"
   ]
  },
  {
   "cell_type": "code",
   "execution_count": 9,
   "metadata": {},
   "outputs": [],
   "source": [
    "def softmax(input, dim=1):\n",
    "    transposed_input = input.transpose(dim, len(input.size()) - 1)\n",
    "    softmaxed_output = F.softmax(transposed_input.contiguous().view(-1, transposed_input.size(-1)), dim=-1)\n",
    "    return softmaxed_output.view(*transposed_input.size()).transpose(dim, len(input.size()) - 1)\n",
    "\n",
    "\n",
    "def augmentation(x, max_shift=2):\n",
    "    _, _, height, width = x.size()\n",
    "\n",
    "    h_shift, w_shift = np.random.randint(-max_shift, max_shift + 1, size=2)\n",
    "    source_height_slice = slice(max(0, h_shift), h_shift + height)\n",
    "    source_width_slice = slice(max(0, w_shift), w_shift + width)\n",
    "    target_height_slice = slice(max(0, -h_shift), -h_shift + height)\n",
    "    target_width_slice = slice(max(0, -w_shift), -w_shift + width)\n",
    "\n",
    "    shifted_image = torch.zeros(*x.size())\n",
    "    shifted_image[:, :, source_height_slice, source_width_slice] = x[:, :, target_height_slice, target_width_slice]\n",
    "    return shifted_image.float()\n",
    "\n",
    "\n",
    "class CapsuleLayer(nn.Module):\n",
    "    def __init__(self, num_capsules, num_route_nodes, in_channels, out_channels, kernel_size=None, stride=None,\n",
    "                 num_iterations=NUM_ROUTING_ITERATIONS):\n",
    "        super(CapsuleLayer, self).__init__()\n",
    "\n",
    "        self.num_route_nodes = num_route_nodes\n",
    "        self.num_iterations = num_iterations\n",
    "\n",
    "        self.num_capsules = num_capsules\n",
    "\n",
    "        if num_route_nodes != -1:\n",
    "            self.route_weights = nn.Parameter(torch.randn(num_capsules, num_route_nodes, in_channels, out_channels))\n",
    "        else:\n",
    "            self.capsules = nn.ModuleList(\n",
    "                [nn.Conv2d(in_channels, out_channels, kernel_size=kernel_size, stride=stride, padding=0) for _ in\n",
    "                 range(num_capsules)])\n",
    "\n",
    "    def squash(self, tensor, dim=-1):\n",
    "        squared_norm = (tensor ** 2).sum(dim=dim, keepdim=True)\n",
    "        scale = squared_norm / (1 + squared_norm)\n",
    "        return scale * tensor / torch.sqrt(squared_norm)\n",
    "\n",
    "    def forward(self, x):\n",
    "        if self.num_route_nodes != -1:\n",
    "            priors = x[None, :, :, None, :] @ self.route_weights[:, None, :, :, :]\n",
    "\n",
    "            logits = Variable(torch.zeros(*priors.size())).cuda()\n",
    "            for i in range(self.num_iterations):\n",
    "                probs = softmax(logits, dim=2)\n",
    "                outputs = self.squash((probs * priors).sum(dim=2, keepdim=True))\n",
    "\n",
    "                if i != self.num_iterations - 1:\n",
    "                    delta_logits = (priors * outputs).sum(dim=-1, keepdim=True)\n",
    "                    logits = logits + delta_logits\n",
    "        else:\n",
    "            outputs = [capsule(x).view(x.size(0), -1, 1) for capsule in self.capsules]\n",
    "            outputs = torch.cat(outputs, dim=-1)\n",
    "            outputs = self.squash(outputs)\n",
    "\n",
    "        return outputs\n",
    "\n",
    "\n",
    "class CapsuleNet(nn.Module):\n",
    "    def __init__(self):\n",
    "        super(CapsuleNet, self).__init__()\n",
    "\n",
    "        self.conv1 = nn.Conv2d(in_channels=1, out_channels=256, kernel_size=9, stride=1)\n",
    "        self.primary_capsules = CapsuleLayer(num_capsules=8, num_route_nodes=-1, in_channels=256, out_channels=32,\n",
    "                                             kernel_size=9, stride=2)\n",
    "        self.digit_capsules = CapsuleLayer(num_capsules=NUM_CLASSES, num_route_nodes=32 * 6 * 6, in_channels=8,\n",
    "                                           out_channels=16)\n",
    "\n",
    "        self.decoder = nn.Sequential(\n",
    "            nn.Linear(16 * NUM_CLASSES, 512),\n",
    "            nn.ReLU(inplace=True),\n",
    "            nn.Linear(512, 1024),\n",
    "            nn.ReLU(inplace=True),\n",
    "            nn.Linear(1024, 784),\n",
    "            nn.Sigmoid()\n",
    "        )\n",
    "\n",
    "    def forward(self, x, y=None):\n",
    "        x = F.relu(self.conv1(x), inplace=True)\n",
    "        x = self.primary_capsules(x)\n",
    "        x = self.digit_capsules(x).squeeze().transpose(0, 1)\n",
    "\n",
    "        classes = (x ** 2).sum(dim=-1) ** 0.5\n",
    "        classes = F.softmax(classes, dim=-1)\n",
    "        if y is None:\n",
    "            # In all batches, get the most active capsule.\n",
    "            _, max_length_indices = classes.max(dim=1) #something wrong here which I have no clue about\n",
    "            y = Variable(torch.eye(NUM_CLASSES)).cuda().index_select(dim=0, index=max_length_indices.data)\n",
    "\n",
    "        reconstructions = self.decoder((x * y[:, :, None]).view(x.size(0), -1))\n",
    "\n",
    "        return classes, reconstructions\n",
    "\n",
    "\n",
    "class CapsuleLoss(nn.Module):\n",
    "    def __init__(self):\n",
    "        super(CapsuleLoss, self).__init__()\n",
    "        self.reconstruction_loss = nn.MSELoss(size_average=False)\n",
    "\n",
    "    def forward(self, images, labels, classes, reconstructions):\n",
    "        left = F.relu(0.9 - classes, inplace=True) ** 2\n",
    "        right = F.relu(classes - 0.1, inplace=True) ** 2\n",
    "\n",
    "        margin_loss = labels * left + 0.5 * (1. - labels) * right\n",
    "        margin_loss = margin_loss.sum()\n",
    "\n",
    "        assert torch.numel(images) == torch.numel(reconstructions)\n",
    "        images = images.view(reconstructions.size()[0], -1)\n",
    "        reconstruction_loss = self.reconstruction_loss(reconstructions, images)\n",
    "\n",
    "        return (margin_loss + 0.0005 * reconstruction_loss) / images.size(0)\n",
    "    \n",
    "class CustomScaling(object):\n",
    "    \"\"\"Rotate image by a fixed angle which is ready for tranform.Compose()\n",
    "    \"\"\"\n",
    "\n",
    "    def __init__(self, scale, angle=0, translate=[0,0], shear=0):\n",
    "        self.scale = scale\n",
    "        self.angle = angle\n",
    "        self.translate = translate\n",
    "        self.shear = shear\n",
    "\n",
    "    def __call__(self, img):\n",
    "        \n",
    "        return transforms.ToTensor()(\n",
    "            transforms.functional.affine(\n",
    "                transforms.ToPILImage()(img), \n",
    "                self.angle, self.translate, self.scale, self.shear))\n",
    "\n",
    "class CustomRotation(object):\n",
    "    \"\"\"Rotate image by a fixed angle which is ready for tranform.Compose()\n",
    "    \"\"\"\n",
    "\n",
    "    def __init__(self, degrees, resample=False, expand=False, center=None):\n",
    "        self.degrees = degrees\n",
    "        self.resample = resample\n",
    "        self.expand = expand\n",
    "        self.center = center\n",
    "\n",
    "    def __call__(self, img):\n",
    "        \n",
    "        return transforms.ToTensor()(\n",
    "            transforms.functional.rotate(\n",
    "                transforms.ToPILImage()(img), \n",
    "                self.degrees, self.resample, self.expand, self.center))\n",
    "    \n",
    "def rotate_tensor(_in_tensor, plot=True):\n",
    "    \"\"\"\n",
    "    Usage: number, number_90, number_180, number_270 = rotate_tensor(example_data[15])\n",
    "    \"\"\"\n",
    "    in_tensor = _in_tensor.clone()\n",
    "    # Add one more channel to the beginning. Tensor shape = 1,1,28,28\n",
    "    in_tensor.unsqueeze_(0)\n",
    "    # Convert to Pytorch variable\n",
    "    in_tensor = Variable(in_tensor, requires_grad=True)\n",
    "    \n",
    "    in_tensor_90 = in_tensor.transpose(2, 3).flip(3)\n",
    "    in_tensor_180 = in_tensor.flip(2).flip(3)\n",
    "    in_tensor_270 = in_tensor.transpose(2, 3).flip(2)\n",
    "    \n",
    "    if plot:\n",
    "        plt.figure(1)\n",
    "        plt.subplot(221)\n",
    "        plt.gca().set_title('0 degree')\n",
    "        plt.imshow(in_tensor[0][0].cpu().detach().clone(), cmap='gray')\n",
    "        plt.subplot(222)\n",
    "        plt.gca().set_title('+90 degree')\n",
    "        plt.imshow(in_tensor_90[0][0].cpu().detach().clone(), cmap='gray')\n",
    "        plt.subplot(223)\n",
    "        plt.gca().set_title('+270 degree')\n",
    "        plt.imshow(in_tensor_270[0][0].cpu().detach().clone(), cmap='gray')\n",
    "        plt.subplot(224)\n",
    "        plt.gca().set_title('+180 degree')\n",
    "        plt.imshow(in_tensor_180[0][0].cpu().detach().clone(), cmap='gray')\n",
    "        plt.tight_layout()\n",
    "        plt.show()\n",
    "    return(in_tensor, in_tensor_90, in_tensor_180, in_tensor_270)\n",
    "\n",
    "def custom_viz(kernels, path=None, cols=None, size=None, verbose=False, axis=False):\n",
    "    \"\"\"Visualize weight and activation matrices learned \n",
    "    during the optimization process. Works for any size of kernels.\n",
    "    \n",
    "    Arguments\n",
    "    =========\n",
    "    kernels: Weight or activation matrix. Must be a high dimensional\n",
    "    Numpy array. Tensors will not work.\n",
    "    path: Path to save the visualizations.\n",
    "    cols: Number of columns (doesn't work completely yet.)\n",
    "    size: Tuple input for size. For example: size=(5,5)\n",
    "    verbose: Print information about the input.\n",
    "    Example\n",
    "    =======\n",
    "    kernels = model.conv1.weight.cpu().detach().clone()\n",
    "    kernels = kernels - kernels.min()\n",
    "    kernels = kernels / kernels.max()\n",
    "    custom_viz(kernels, 'results/conv1_weights.png', 5)\n",
    "    \"\"\"\n",
    "    def set_size(w,h, ax=None):\n",
    "        \"\"\" w, h: width, height in inches \"\"\"\n",
    "        if not ax: ax=plt.gca()\n",
    "        l = ax.figure.subplotpars.left\n",
    "        r = ax.figure.subplotpars.right\n",
    "        t = ax.figure.subplotpars.top\n",
    "        b = ax.figure.subplotpars.bottom\n",
    "        figw = float(w)/(r-l)\n",
    "        figh = float(h)/(t-b)\n",
    "        ax.figure.set_size_inches(figw, figh)\n",
    "    \n",
    "    N = kernels.shape[0]\n",
    "    C = kernels.shape[1]\n",
    "    total_cols = N*C\n",
    "    pos = range(1,total_cols + 1)\n",
    "    \n",
    "    if verbose:\n",
    "        print(\"Shape of input: \", kernels.shape)\n",
    "        \n",
    "    if cols==None:\n",
    "        req_cols = C\n",
    "        num_rows = N\n",
    "    elif cols:\n",
    "        req_cols = cols\n",
    "        # Account for more rows while diving total cols\n",
    "        # with requested number of cols in the figure\n",
    "        # Hence, using np.ceil to get the largest int\n",
    "        # from the quotient of division.\n",
    "        num_rows = int(np.ceil(total_cols/req_cols))\n",
    "    elif C>1:\n",
    "        # Check for 1D arrays and such. Mostly not needed.\n",
    "        req_cols = C\n",
    "\n",
    "    fig = plt.figure(1)\n",
    "    fig.tight_layout()\n",
    "    k=0\n",
    "    for i in range(kernels.shape[0]):\n",
    "        for j in range(kernels.shape[1]):\n",
    "            img = kernels[i][j]\n",
    "            ax = fig.add_subplot(num_rows,req_cols,pos[k])\n",
    "            ax.imshow(img, cmap='gray')\n",
    "            if axis:\n",
    "                plt.axis('on')\n",
    "            elif axis==False:\n",
    "                plt.axis('off')\n",
    "            k = k+1\n",
    "    if size:\n",
    "        size_h,size_w = size\n",
    "        set_size(size_h,size_w,ax)\n",
    "    if path:\n",
    "        plt.savefig(path, dpi=100)\n",
    "    plt.show()\n",
    "\n",
    "def clean_up_variable(starts_with=None):\n",
    "    for name in dir():\n",
    "        if name.startswith(str(starts_with)):\n",
    "            del globals()[name]\n",
    "\n",
    "    for name in dir():\n",
    "        if name.startswith(str(starts_with)):\n",
    "            del locals()[name]\n",
    "#     except TypeError:\n",
    "#         print(\"ERR: Please pass first few letters of the variables you need to delete as an argument\")\n",
    "        \n",
    "def test_capsulenet(_model, _test_loader):\n",
    "    \"\"\"\n",
    "    Evaluate the test performance of capsulenet\n",
    "    \"\"\"\n",
    "    acc = 0\n",
    "    for batch_idx, (ground_truth, example_targets) in enumerate(_test_loader):\n",
    "        output_label, _ = _model(Variable(ground_truth).cuda())\n",
    "        equality = (example_targets == torch.exp(output_label).max(dim=1)[1].cpu())\n",
    "        # print(equality)\n",
    "        acc += equality.type(torch.FloatTensor).mean()\n",
    "    return acc/float(batch_idx+1)"
   ]
  },
  {
   "cell_type": "code",
   "execution_count": 10,
   "metadata": {},
   "outputs": [
    {
     "name": "stdout",
     "output_type": "stream",
     "text": [
      "# parameters: 8215568\n"
     ]
    }
   ],
   "source": [
    "model = CapsuleNet()\n",
    "model.load_state_dict(torch.load('epochs/epoch_21.pt'))\n",
    "model.cuda()\n",
    "\n",
    "print(\"# parameters:\", sum(param.numel() for param in model.parameters()))"
   ]
  },
  {
   "cell_type": "code",
   "execution_count": 12,
   "metadata": {},
   "outputs": [
    {
     "name": "stdout",
     "output_type": "stream",
     "text": [
      "----------------------------------------------------------------\n",
      "        Layer (type)               Output Shape         Param #\n",
      "================================================================\n",
      "            Conv2d-1          [-1, 256, 20, 20]          20,992\n",
      "            Conv2d-2             [-1, 32, 6, 6]         663,584\n",
      "            Conv2d-3             [-1, 32, 6, 6]         663,584\n",
      "            Conv2d-4             [-1, 32, 6, 6]         663,584\n",
      "            Conv2d-5             [-1, 32, 6, 6]         663,584\n",
      "            Conv2d-6             [-1, 32, 6, 6]         663,584\n",
      "            Conv2d-7             [-1, 32, 6, 6]         663,584\n",
      "            Conv2d-8             [-1, 32, 6, 6]         663,584\n",
      "            Conv2d-9             [-1, 32, 6, 6]         663,584\n",
      "     CapsuleLayer-10              [-1, 1152, 8]               0\n",
      "     CapsuleLayer-11          [-1, 2, 1, 1, 16]               0\n",
      "           Linear-12                  [-1, 512]          82,432\n",
      "             ReLU-13                  [-1, 512]               0\n",
      "           Linear-14                 [-1, 1024]         525,312\n",
      "             ReLU-15                 [-1, 1024]               0\n",
      "           Linear-16                  [-1, 784]         803,600\n",
      "          Sigmoid-17                  [-1, 784]               0\n",
      "================================================================\n",
      "Total params: 6,741,008\n",
      "Trainable params: 6,741,008\n",
      "Non-trainable params: 0\n",
      "----------------------------------------------------------------\n",
      "Input size (MB): 0.00\n",
      "Forward/backward pass size (MB): 0.96\n",
      "Params size (MB): 25.71\n",
      "Estimated Total Size (MB): 26.68\n",
      "----------------------------------------------------------------\n"
     ]
    }
   ],
   "source": [
    "summary(model, (1, 28,28))"
   ]
  },
  {
   "cell_type": "code",
   "execution_count": 13,
   "metadata": {},
   "outputs": [
    {
     "data": {
      "text/plain": [
       "CapsuleNet(\n",
       "  (conv1): Conv2d(1, 256, kernel_size=(9, 9), stride=(1, 1))\n",
       "  (primary_capsules): CapsuleLayer(\n",
       "    (capsules): ModuleList(\n",
       "      (0): Conv2d(256, 32, kernel_size=(9, 9), stride=(2, 2))\n",
       "      (1): Conv2d(256, 32, kernel_size=(9, 9), stride=(2, 2))\n",
       "      (2): Conv2d(256, 32, kernel_size=(9, 9), stride=(2, 2))\n",
       "      (3): Conv2d(256, 32, kernel_size=(9, 9), stride=(2, 2))\n",
       "      (4): Conv2d(256, 32, kernel_size=(9, 9), stride=(2, 2))\n",
       "      (5): Conv2d(256, 32, kernel_size=(9, 9), stride=(2, 2))\n",
       "      (6): Conv2d(256, 32, kernel_size=(9, 9), stride=(2, 2))\n",
       "      (7): Conv2d(256, 32, kernel_size=(9, 9), stride=(2, 2))\n",
       "    )\n",
       "  )\n",
       "  (digit_capsules): CapsuleLayer()\n",
       "  (decoder): Sequential(\n",
       "    (0): Linear(in_features=160, out_features=512, bias=True)\n",
       "    (1): ReLU(inplace)\n",
       "    (2): Linear(in_features=512, out_features=1024, bias=True)\n",
       "    (3): ReLU(inplace)\n",
       "    (4): Linear(in_features=1024, out_features=784, bias=True)\n",
       "    (5): Sigmoid()\n",
       "  )\n",
       ")"
      ]
     },
     "execution_count": 13,
     "metadata": {},
     "output_type": "execute_result"
    }
   ],
   "source": [
    "model.eval()"
   ]
  },
  {
   "cell_type": "code",
   "execution_count": 14,
   "metadata": {},
   "outputs": [],
   "source": [
    "def get_iterator(mode):\n",
    "    dataset = MNIST(root='./data', download=True, train=mode)\n",
    "    data = getattr(dataset, 'train_data' if mode else 'data')\n",
    "    labels = getattr(dataset, 'train_labels' if mode else 'targets')\n",
    "    tensor_dataset = tnt.dataset.TensorDataset([data, labels])\n",
    "\n",
    "    return tensor_dataset.parallel(batch_size=BATCH_SIZE, num_workers=4, shuffle=mode)\n",
    "\n",
    "test_sample = next(iter(get_iterator(False)))\n",
    "\n",
    "ground_truth = (test_sample[0].unsqueeze(1).float() / 255.0)\n",
    "output_label, reconstructions = model(Variable(ground_truth).cuda())\n",
    "reconstruction = reconstructions.cpu().view_as(ground_truth).data"
   ]
  },
  {
   "cell_type": "code",
   "execution_count": 15,
   "metadata": {},
   "outputs": [
    {
     "name": "stdout",
     "output_type": "stream",
     "text": [
      "Predicted Class:  2\n"
     ]
    },
    {
     "data": {
      "image/png": "[encoded data removed]",
      "text/plain": [
       "<Figure size 432x288 with 1 Axes>"
      ]
     },
     "metadata": {
      "image/png": {
       "height": 248,
       "width": 251
      },
      "needs_background": "light"
     },
     "output_type": "display_data"
    }
   ],
   "source": [
    "image_id = np.random.randint(100, size=1)[0]\n",
    "print(\"Predicted Class: \", np.argmax(output_label[image_id].cpu().detach().numpy()))\n",
    "plt.imshow(test_sample[0][image_id].unsqueeze(0).cuda().cpu().detach().numpy()[0], cmap='gray')\n",
    "plt.show()"
   ]
  },
  {
   "cell_type": "markdown",
   "metadata": {},
   "source": [
    "## Reconstruction as a regularization method\n",
    "\n",
    "> We use an additional reconstruction loss to encourage the digit capsules to encode the instantiation\n",
    "parameters of the input digit. During training, we mask out all but the activity vector of the correct\n",
    "digit capsule. Then we use this activity vector to reconstruct the input image. The output of the digit\n",
    "capsule is fed into a decoder consisting of 3 fully connected layers that model the pixel intensitie"
   ]
  },
  {
   "cell_type": "markdown",
   "metadata": {},
   "source": [
    "# Bring our own train and test loader."
   ]
  },
  {
   "cell_type": "code",
   "execution_count": 16,
   "metadata": {},
   "outputs": [],
   "source": [
    "# default data loaders\n",
    "orig_train_loader = torch.utils.data.DataLoader(\n",
    "    datasets.MNIST('data/', train=True, download=True,\n",
    "                   transform=transforms.Compose([\n",
    "                       transforms.ToTensor(),\n",
    "                   ])),\n",
    "    batch_size=BATCH_SIZE, shuffle=True)\n",
    "\n",
    "orig_test_loader = torch.utils.data.DataLoader(\n",
    "    datasets.MNIST('data/', train=False, transform=transforms.Compose([\n",
    "                       transforms.ToTensor(),\n",
    "                   ])),\n",
    "    batch_size=BATCH_SIZE, shuffle=False)\n",
    "\n",
    "orig_examples = enumerate(orig_test_loader)\n",
    "orig_batch_idx, (orig_ground_truth, orig_example_targets) = next(orig_examples)\n",
    "\n",
    "orig_output_label, orig_reconstructions = model(Variable(orig_ground_truth).cuda())\n",
    "orig_reconstruction = orig_reconstructions.cpu().view_as(orig_ground_truth).data"
   ]
  },
  {
   "cell_type": "code",
   "execution_count": 17,
   "metadata": {},
   "outputs": [
    {
     "name": "stdout",
     "output_type": "stream",
     "text": [
      "Actual Class:  7 || Predicted Class:  7\n"
     ]
    },
    {
     "data": {
      "image/png": "[encoded data removed]",
      "text/plain": [
       "<Figure size 432x288 with 2 Axes>"
      ]
     },
     "metadata": {
      "image/png": {
       "height": 202,
       "width": 410
      },
      "needs_background": "light"
     },
     "output_type": "display_data"
    }
   ],
   "source": [
    "image_id = np.random.randint(BATCH_SIZE, size=1)[0]\n",
    "\n",
    "print(\"Actual Class: \", int(orig_example_targets[image_id].cpu().detach().numpy()), \"|| Predicted Class: \", np.argmax(orig_output_label[image_id].cpu().detach().numpy()))\n",
    "\n",
    "fig = plt.figure()\n",
    "plt.subplot(121)\n",
    "plt.imshow(orig_ground_truth[image_id].cuda().cpu().detach().numpy()[0], cmap='gray')\n",
    "plt.subplot(122)\n",
    "plt.imshow(orig_reconstruction[image_id].cuda().cpu().detach().numpy()[0], cmap='gray')\n",
    "plt.show()"
   ]
  },
  {
   "cell_type": "code",
   "execution_count": null,
   "metadata": {},
   "outputs": [],
   "source": [
    "orig_acc = test_capsulenet(model, orig_test_loader)\n",
    "print(\"Test Accuracy for original images is: \", orig_acc.cpu().detach().numpy())"
   ]
  },
  {
   "cell_type": "code",
   "execution_count": null,
   "metadata": {},
   "outputs": [],
   "source": [
    "clean_up_variable('orig')\n",
    "# %who_ls"
   ]
  },
  {
   "cell_type": "markdown",
   "metadata": {},
   "source": [
    "# Scaling Test ??"
   ]
  },
  {
   "cell_type": "code",
   "execution_count": null,
   "metadata": {},
   "outputs": [],
   "source": [
    "scale = 0.9 # Specifies the scaling factor of images.\n",
    "\n",
    "# Define the train and test loader\n",
    "# Here we are adding our CustomScaling function to the transformations\n",
    "scale_train_loader = torch.utils.data.DataLoader(\n",
    "    datasets.MNIST('data/', train=True, download=True,\n",
    "                   transform=transforms.Compose([\n",
    "                       transforms.ToTensor(),\n",
    "                       CustomScaling(scale),\n",
    "                   ])),\n",
    "    batch_size=BATCH_SIZE, shuffle=True)\n",
    "\n",
    "scale_test_loader = torch.utils.data.DataLoader(\n",
    "    datasets.MNIST('data/', train=False, transform=transforms.Compose([\n",
    "                       transforms.ToTensor(),\n",
    "                       CustomScaling(scale),\n",
    "                   ])),\n",
    "    batch_size=BATCH_SIZE, shuffle=False)\n",
    "\n",
    "scale_examples = enumerate(scale_test_loader)\n",
    "scale_batch_idx, (scale_ground_truth, scale_example_targets) = next(scale_examples)\n",
    "\n",
    "# ground_truth = (test_sample[0].unsqueeze(1).float() / 255.0)\n",
    "scale_output_label, scale_reconstructions = model(Variable(scale_ground_truth).cuda())\n",
    "scale_reconstruction = scale_reconstructions.cpu().view_as(scale_ground_truth).data\n",
    "scale_acc = test_capsulenet(model, scale_test_loader)\n",
    "\n",
    "print(\"Test Accuracy for %d percent scaled images is: %.4f\" %(scale*100, scale_acc.cpu().detach().numpy()))"
   ]
  },
  {
   "cell_type": "code",
   "execution_count": null,
   "metadata": {},
   "outputs": [],
   "source": [
    "image_id = np.random.randint(BATCH_SIZE, size=1)[0]\n",
    "\n",
    "print(\"Actual Class: \", int(scale_example_targets[image_id].cpu().detach().numpy()), \"|| Predicted Class: \", np.argmax(scale_output_label[image_id].cpu().detach().numpy()))\n",
    "\n",
    "fig = plt.figure()\n",
    "plt.subplot(121)\n",
    "plt.imshow(scale_ground_truth[image_id].cuda().cpu().detach().numpy()[0], cmap='gray')\n",
    "plt.subplot(122)\n",
    "plt.imshow(scale_reconstruction[image_id].cuda().cpu().detach().numpy()[0], cmap='gray')\n",
    "plt.show()"
   ]
  },
  {
   "cell_type": "markdown",
   "metadata": {},
   "source": [
    "### LOOP FOR EASY STUDY"
   ]
  },
  {
   "cell_type": "code",
   "execution_count": null,
   "metadata": {},
   "outputs": [],
   "source": [
    "scale_acc_study = []\n",
    "scales = np.arange(0.1, 3.1, 0.1)\n",
    "\n",
    "for i in scales:\n",
    "    scale = round(i,2) # Specifies the scaling factor of images.\n",
    "\n",
    "    # Define the train and test loader\n",
    "    # Here we are adding our CustomScaling function to the transformations\n",
    "    scale_train_loader = torch.utils.data.DataLoader(\n",
    "        datasets.MNIST('data/', train=True, download=True,\n",
    "                       transform=transforms.Compose([\n",
    "                           transforms.ToTensor(),\n",
    "                           CustomScaling(scale),\n",
    "                       ])),\n",
    "        batch_size=BATCH_SIZE, shuffle=True)\n",
    "\n",
    "    scale_test_loader = torch.utils.data.DataLoader(\n",
    "        datasets.MNIST('data/', train=False, transform=transforms.Compose([\n",
    "                           transforms.ToTensor(),\n",
    "                           CustomScaling(scale),\n",
    "                       ])),\n",
    "        batch_size=BATCH_SIZE, shuffle=False)\n",
    "\n",
    "    scale_examples = enumerate(scale_test_loader)\n",
    "    scale_batch_idx, (scale_ground_truth, scale_example_targets) = next(scale_examples)\n",
    "\n",
    "    # ground_truth = (test_sample[0].unsqueeze(1).float() / 255.0)\n",
    "    scale_output_label, scale_reconstructions = model(Variable(scale_ground_truth).cuda())\n",
    "    scale_reconstruction = scale_reconstructions.cpu().view_as(scale_ground_truth).data\n",
    "    scale_acc = test_capsulenet(model, scale_test_loader)\n",
    "    scale_acc_study.append(scale_acc)\n",
    "    print(\"Test Accuracy for %d percent scaled images is: %.4f\" %(scale*100, scale_acc.cpu().detach().numpy()))\n",
    "np.savetxt(fname=\"capsule_scaling_acc_values.txt\", X=scale_acc_study)"
   ]
  },
  {
   "cell_type": "code",
   "execution_count": null,
   "metadata": {},
   "outputs": [],
   "source": [
    "# Plot for variation in scales\n",
    "plt.plot(scales, scale_acc_study)\n",
    "plt.xlabel('Scale', fontsize=16)\n",
    "plt.ylabel('Accuracy', fontsize=16)\n",
    "plt.tight_layout()\n",
    "plt.suptitle(\"Capsule Scaling Study - Scales (10 - 300)\")\n",
    "plt.savefig('images/capsule_scaling_study.png', dpi=200)\n",
    "plt.show()"
   ]
  },
  {
   "cell_type": "markdown",
   "metadata": {},
   "source": [
    "### LOOP ENDS"
   ]
  },
  {
   "cell_type": "code",
   "execution_count": null,
   "metadata": {},
   "outputs": [],
   "source": [
    "for name in dir():\n",
    "    if name.startswith('rota'):\n",
    "        del globals()[name]\n",
    "for name in dir():\n",
    "    if name.startswith('Custom'):\n",
    "        del globals()[name]\n",
    "%who_ls"
   ]
  },
  {
   "cell_type": "code",
   "execution_count": null,
   "metadata": {},
   "outputs": [],
   "source": [
    "clean_up_variable('scale')\n",
    "%who_ls"
   ]
  },
  {
   "cell_type": "markdown",
   "metadata": {},
   "source": [
    "# Rotation Test ??"
   ]
  },
  {
   "cell_type": "code",
   "execution_count": null,
   "metadata": {},
   "outputs": [],
   "source": [
    "rotation = 20 # Specifies the scaling factor of images.\n",
    "\n",
    "# Define the train and test loader\n",
    "# Here we are adding our CustomRotation function to the transformations\n",
    "train_loader = torch.utils.data.DataLoader(\n",
    "    datasets.MNIST('data/', train=True, download=True,\n",
    "                   transform=transforms.Compose([\n",
    "                       transforms.ToTensor(),\n",
    "                       CustomRotation(rotation),\n",
    "                       transforms.Normalize((0.1307,), (0.3081,))\n",
    "                   ])),\n",
    "    batch_size=BATCH_SIZE, shuffle=True)\n",
    "\n",
    "test_loader = torch.utils.data.DataLoader(\n",
    "    datasets.MNIST('data/', train=False, transform=transforms.Compose([\n",
    "                       transforms.ToTensor(),\n",
    "                       CustomRotation(rotation),\n",
    "                       transforms.Normalize((0.1307,), (0.3081,))\n",
    "                   ])),\n",
    "    batch_size=BATCH_SIZE, shuffle=False)\n",
    "\n",
    "\n",
    "## try out stuff\n",
    "\n",
    "# transforms.functional.affine(img=transforms.functional.to_pil_image(example_data[0]),\n",
    "#                              angle=0, translate=(0,0),\n",
    "#                              scale=0.4, shear=0)\n",
    "\n",
    "\n",
    "examples = enumerate(test_loader)\n",
    "batch_idx, (ground_truth, example_targets) = next(examples)\n",
    "\n",
    "# ground_truth = (test_sample[0].unsqueeze(1).float() / 255.0)\n",
    "output_label, reconstructions = model(Variable(ground_truth).cuda())\n",
    "reconstruction = reconstructions.cpu().view_as(ground_truth).data"
   ]
  },
  {
   "cell_type": "code",
   "execution_count": 5,
   "metadata": {},
   "outputs": [
    {
     "name": "stdout",
     "output_type": "stream",
     "text": [
      "Test Accuracy for 0 percent scaled images is: 0.9948\n",
      "Test Accuracy for 10 percent scaled images is: 0.9882\n",
      "Test Accuracy for 20 percent scaled images is: 0.9632\n",
      "Test Accuracy for 30 percent scaled images is: 0.8810\n",
      "Test Accuracy for 40 percent scaled images is: 0.7290\n",
      "Test Accuracy for 50 percent scaled images is: 0.5219\n",
      "Test Accuracy for 60 percent scaled images is: 0.3416\n",
      "Test Accuracy for 70 percent scaled images is: 0.2352\n",
      "Test Accuracy for 80 percent scaled images is: 0.1748\n",
      "Test Accuracy for 90 percent scaled images is: 0.1572\n",
      "Test Accuracy for 100 percent scaled images is: 0.1689\n",
      "Test Accuracy for 110 percent scaled images is: 0.1891\n",
      "Test Accuracy for 120 percent scaled images is: 0.2352\n",
      "Test Accuracy for 130 percent scaled images is: 0.3017\n",
      "Test Accuracy for 140 percent scaled images is: 0.3594\n",
      "Test Accuracy for 150 percent scaled images is: 0.4088\n",
      "Test Accuracy for 160 percent scaled images is: 0.4436\n",
      "Test Accuracy for 170 percent scaled images is: 0.4650\n",
      "Test Accuracy for 180 percent scaled images is: 0.4715\n",
      "Test Accuracy for 190 percent scaled images is: 0.4692\n",
      "Test Accuracy for 200 percent scaled images is: 0.4525\n",
      "Test Accuracy for 210 percent scaled images is: 0.4075\n",
      "Test Accuracy for 220 percent scaled images is: 0.3611\n",
      "Test Accuracy for 230 percent scaled images is: 0.3046\n",
      "Test Accuracy for 240 percent scaled images is: 0.2508\n",
      "Test Accuracy for 250 percent scaled images is: 0.2044\n",
      "Test Accuracy for 260 percent scaled images is: 0.1658\n",
      "Test Accuracy for 270 percent scaled images is: 0.1472\n",
      "Test Accuracy for 280 percent scaled images is: 0.1454\n",
      "Test Accuracy for 290 percent scaled images is: 0.1690\n",
      "Test Accuracy for 300 percent scaled images is: 0.2436\n",
      "Test Accuracy for 310 percent scaled images is: 0.4073\n",
      "Test Accuracy for 320 percent scaled images is: 0.6374\n",
      "Test Accuracy for 330 percent scaled images is: 0.8484\n",
      "Test Accuracy for 340 percent scaled images is: 0.9576\n",
      "Test Accuracy for 350 percent scaled images is: 0.9892\n",
      "Test Accuracy for 360 percent scaled images is: 0.9948\n"
     ]
    }
   ],
   "source": [
    "rotation_acc_study = []\n",
    "rotations = np.arange(0, 370, 10)\n",
    "\n",
    "for rotation in rotations:\n",
    "    # Define the train and test loader\n",
    "    # Here we are adding our CustomRotation function to the transformations\n",
    "    rotation_train_loader = torch.utils.data.DataLoader(\n",
    "        datasets.MNIST('data/', train=True, download=True,\n",
    "                       transform=transforms.Compose([\n",
    "                           transforms.ToTensor(),\n",
    "                           CustomRotation(rotation),\n",
    "                       ])),\n",
    "        batch_size=BATCH_SIZE, shuffle=True)\n",
    "\n",
    "    rotation_test_loader = torch.utils.data.DataLoader(\n",
    "        datasets.MNIST('data/', train=False, transform=transforms.Compose([\n",
    "                           transforms.ToTensor(),\n",
    "                           CustomRotation(rotation),\n",
    "                       ])),\n",
    "        batch_size=BATCH_SIZE, shuffle=False)\n",
    "\n",
    "    rotation_examples = enumerate(rotation_test_loader)\n",
    "    rotation_batch_idx, (rotation_ground_truth, rotation_example_targets) = next(rotation_examples)\n",
    "\n",
    "    # ground_truth = (test_sample[0].unsqueeze(1).float() / 255.0)\n",
    "    rotation_output_label, rotation_reconstructions = model(Variable(rotation_ground_truth).cuda())\n",
    "    rotation_reconstruction = rotation_reconstructions.cpu().view_as(rotation_ground_truth).data\n",
    "    rotation_acc = test_capsulenet(model, rotation_test_loader)\n",
    "    rotation_acc_study.append(rotation_acc)\n",
    "    print(\"Test Accuracy for %d percent scaled images is: %.4f\" %(rotation, rotation_acc.cpu().detach().numpy()))\n",
    "np.savetxt(fname=\"capsule_rotation_acc_values.txt\", X=rotation_acc_study)"
   ]
  },
  {
   "cell_type": "code",
   "execution_count": null,
   "metadata": {},
   "outputs": [],
   "source": []
  },
  {
   "cell_type": "code",
   "execution_count": null,
   "metadata": {},
   "outputs": [],
   "source": [
    "# Plot for variation in scales\n",
    "fig = plt.Figure()\n",
    "plt.plot(rotations, rotation_acc_study)\n",
    "plt.xlabel('Rotation', fontsize=16)\n",
    "plt.ylabel('Accuracy', fontsize=16)\n",
    "plt.tight_layout()\n",
    "plt.suptitle(\"Capsule Rotation Study - Angles (0 -360)\")\n",
    "plt.savefig('images/capsule_rotation_study.png', dpi=200)\n",
    "plt.show()"
   ]
  },
  {
   "cell_type": "raw",
   "metadata": {},
   "source": [
    "![rot_study](./images/capsule_rotation_study.png \"Capsule Rotation Study\")"
   ]
  },
  {
   "cell_type": "raw",
   "metadata": {},
   "source": [
    "![scaling_study](./images/capsule_scaling_study.png \"Capsule Scaling Study\")"
   ]
  },
  {
   "cell_type": "code",
   "execution_count": null,
   "metadata": {},
   "outputs": [],
   "source": []
  }
 ],
 "metadata": {
  "kernelspec": {
   "display_name": "Python 3",
   "language": "python",
   "name": "python3"
  },
  "language_info": {
   "codemirror_mode": {
    "name": "ipython",
    "version": 3
   },
   "file_extension": ".py",
   "mimetype": "text/x-python",
   "name": "python",
   "nbconvert_exporter": "python",
   "pygments_lexer": "ipython3",
   "version": "3.5.2"
  }
 },
 "nbformat": 4,
 "nbformat_minor": 2
}
